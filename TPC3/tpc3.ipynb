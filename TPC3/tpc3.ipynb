{
 "cells": [
  {
   "cell_type": "markdown",
   "metadata": {},
   "source": [
    "## TPC3: Jogo dos 21 fósforos\n",
    "\n",
    "Desenvolve em Python o código necessário para o jogo dos 21 fósforos: \n",
    "\n",
    "### O jogo\n",
    "\n",
    "* No início do jogo, há 21 fósforos;\n",
    "* Cada jogador (computador ou utilizador), pode tirar 1, 2, 3 ou 4 fósforos quando for a sua vez de jogar;\n",
    "* Os jogadores jogam alternadamente;\n",
    "* **Quem tirar o último fósforo perde!**\n",
    "\n",
    "\n",
    "### O programa \n",
    "\n",
    "* O jogo deverá ter dois modos: o jogador joga em primeiro lugar e o computador começa a jogar em segundo lugar e, no segundo modo, o computador começa em primeiro; \n",
    "* Quando o computador começa a jogar em segundo lugar, deve ganhar sempre o jogo;\n",
    "* Quando o computador começa a jogar em primeiro lugar, se o utilizador cometer um erro de cálculo, o computador deverá passar para a posição de vencedor e ganhar o jogo."
   ]
  },
  {
   "cell_type": "code",
   "execution_count": 1,
   "metadata": {},
   "outputs": [
    {
     "name": "stdout",
     "output_type": "stream",
     "text": [
      "Bem-vindo ao jogo dos 21 fósforos!\n",
      "Fósforos restantes: 21\n",
      "O computador tirou 2 fósforos.\n",
      "Fósforos restantes: 19\n",
      "Fósforos restantes: 15\n",
      "O computador tirou 4 fósforos.\n",
      "Fósforos restantes: 11\n",
      "Fósforos restantes: 10\n",
      "O computador tirou 4 fósforos.\n",
      "Fósforos restantes: 6\n",
      "Fósforos restantes: 2\n",
      "O computador tirou 1 fósforos.\n",
      "Fósforos restantes: 1\n",
      "Você perdeu! O computador venceu!\n"
     ]
    }
   ],
   "source": [
    "import random\n",
    "\n",
    "# Função para imprimir o estado atual dos fósforos\n",
    "def mostrar_fosforos(fosforos_restantes):\n",
    "    print(f\"Fósforos restantes: {fosforos_restantes}\")\n",
    "\n",
    "# Função para a vez do jogador\n",
    "def vez_do_jogador(fosforos_restantes):\n",
    "    jogada = 0\n",
    "    while jogada not in [1, 2, 3, 4] or jogada > fosforos_restantes:\n",
    "        try:\n",
    "            jogada = int(input(\"Quantos fósforos você quer tirar? (1-4): \"))\n",
    "        except ValueError:\n",
    "            print(\"Entrada inválida, insira um número entre 1 e 4.\")\n",
    "    return jogada\n",
    "\n",
    "# Função para a vez do computador\n",
    "def vez_do_computador(fosforos_restantes):\n",
    "    jogada = (fosforos_restantes - 1) % 5\n",
    "    if jogada == 0:  # Se o cálculo não permitir ganhar, o computador joga aleatoriamente\n",
    "        jogada = random.randint(1, min(4, fosforos_restantes))\n",
    "    print(f\"O computador tirou {jogada} fósforos.\")\n",
    "    return jogada\n",
    "\n",
    "# Função principal do jogo\n",
    "def jogo_dos_fosforos():\n",
    "    print(\"Bem-vindo ao jogo dos 21 fósforos!\")\n",
    "    modo = 0\n",
    "    while modo not in [1, 2]:\n",
    "        try:\n",
    "            modo = int(input(\"Escolha o modo de jogo (1 - Jogador começa, 2 - Computador começa): \"))\n",
    "        except ValueError:\n",
    "            print(\"Entrada inválida. Escolha 1 ou 2.\")\n",
    "\n",
    "    fosforos_restantes = 21\n",
    "    jogador_atual = \"jogador\" if modo == 1 else \"computador\"\n",
    "\n",
    "    while fosforos_restantes > 1:\n",
    "        mostrar_fosforos(fosforos_restantes)\n",
    "\n",
    "        if jogador_atual == \"jogador\":\n",
    "            jogada = vez_do_jogador(fosforos_restantes)\n",
    "            jogador_atual = \"computador\"\n",
    "        else:\n",
    "            jogada = vez_do_computador(fosforos_restantes)\n",
    "            jogador_atual = \"jogador\"\n",
    "\n",
    "        fosforos_restantes -= jogada\n",
    "\n",
    "    # Último fósforo\n",
    "    mostrar_fosforos(fosforos_restantes)\n",
    "    if jogador_atual == \"jogador\":\n",
    "        print(\"Você perdeu! O computador venceu!\")\n",
    "    else:\n",
    "        print(\"O computador perdeu! Você venceu!\")\n",
    "\n",
    "# Executar o jogo\n",
    "if __name__ == \"__main__\":\n",
    "    jogo_dos_fosforos()"
   ]
  }
 ],
 "metadata": {
  "kernelspec": {
   "display_name": "Python 3",
   "language": "python",
   "name": "python3"
  },
  "language_info": {
   "codemirror_mode": {
    "name": "ipython",
    "version": 3
   },
   "file_extension": ".py",
   "mimetype": "text/x-python",
   "name": "python",
   "nbconvert_exporter": "python",
   "pygments_lexer": "ipython3",
   "version": "3.12.4"
  }
 },
 "nbformat": 4,
 "nbformat_minor": 2
}
