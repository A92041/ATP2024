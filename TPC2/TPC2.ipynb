{
 "cells": [
  {
   "cell_type": "markdown",
   "metadata": {},
   "source": [
    "### TPC2: Adivinha o número\n",
    "- Crie um programa em Python para jogar o jogo \"Adivinha o número\":\n",
    "    - O jogo pode ter 2 modalidades: computador pensa num número (entre 0 e 100), utilizador tenta adivinhar; ou, o utilizador pensa num número (entre 0 e 100) e o computador tenta adivinhar;\n",
    "    - Quem tenta adivinhar responde com uma das afirmações: \"Acertou\", \"O número que pensei é Maior\" ou \"O número que pensei é Menor\";\n",
    "    - Uma vez descoberto o número o programa deverá terminar imprimindo o número de tentativas que quem adivinhou usou para chegar ao resultado."
   ]
  },
  {
   "cell_type": "code",
   "execution_count": null,
   "metadata": {},
   "outputs": [],
   "source": [
    "import random\n",
    "\n",
    "def utilizador_adivinha():\n",
    "    numero_computador = random.randint(0, 100)\n",
    "    tentativas = 0\n",
    "    acertou = False\n",
    "\n",
    "    while not acertou:\n",
    "        tentativa = int(input(\"Tente adivinhar o número (entre 0 e 100): \"))\n",
    "        tentativas += 1\n",
    "\n",
    "        if tentativa == numero_computador:\n",
    "            acertou = True\n",
    "        elif tentativa < numero_computador:\n",
    "            print(\"O número que pensei é Maior.\")\n",
    "        else:\n",
    "            print(\"O número que pensei é Menor.\")\n",
    "    \n",
    "    print(f\"Acertou! O número era {numero_computador}. Você usou {tentativas} tentativas.\")\n",
    "\n",
    "utilizador_adivinha()"
   ]
  },
  {
   "cell_type": "code",
   "execution_count": null,
   "metadata": {},
   "outputs": [],
   "source": [
    "def computador_adivinha():\n",
    "    print(\"Escolhe um numero entre 0 e 100\")\n",
    "    tentativas = 0\n",
    "    max=100\n",
    "    min=0\n",
    "    resultado=0\n",
    "    while resultado == 0:\n",
    "        intervalo = max + min\n",
    "        media = input(\"o numero que pensou é o \"+str(int(intervalo/2))+\" \")\n",
    "        media = media.upper()\n",
    "        if media == \"SIM\":\n",
    "            resultado = intervalo/2\n",
    "        elif media == \"NÃO\":\n",
    "            maiormenor = input(\"o número é maior ou menor do que \"+str(int(intervalo/2))+\" , \"+\"escreva maior ou menor:\")\n",
    "            maiormenor = maiormenor.upper()\n",
    "            if maiormenor == \"MAIOR\":\n",
    "                min=int((intervalo)/2)\n",
    "            elif maiormenor == \"MENOR\":\n",
    "                max=int((intervalo)/2)\n",
    "            tentativas += 1\n",
    "    n1=tentativas\n",
    "    print(\"o seu número foi adivinhado em \"+str(n1)+\" tentativas\")\n",
    "\n",
    "computador_adivinha()"
   ]
  }
 ],
 "metadata": {
  "kernelspec": {
   "display_name": "Python 3",
   "language": "python",
   "name": "python3"
  },
  "language_info": {
   "codemirror_mode": {
    "name": "ipython",
    "version": 3
   },
   "file_extension": ".py",
   "mimetype": "text/x-python",
   "name": "python",
   "nbconvert_exporter": "python",
   "pygments_lexer": "ipython3",
   "version": "3.12.4"
  }
 },
 "nbformat": 4,
 "nbformat_minor": 2
}
