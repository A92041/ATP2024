{
 "cells": [
  {
   "cell_type": "markdown",
   "id": "1e545158",
   "metadata": {},
   "source": [
    "# Aula Prática 8 (guião)\n",
    "### Semana de 28 de Outubro a 1 de Novembro de 2023\n",
    "### José Carlos Ramalho e Luís Cunha\n",
    "### Sinopsis:\n",
    "Consolidação e aferição de tudo o que foi feito até ao momento. "
   ]
  },
  {
   "cell_type": "markdown",
   "id": "9b9b5140-2b81-435e-9fc0-324437a7b453",
   "metadata": {},
   "source": [
    "### Assunto: Frações\n",
    "Vamos pensar num modelo: o que é uma fração estruturalmente?"
   ]
  },
  {
   "cell_type": "code",
   "execution_count": 68,
   "id": "5a6da5eb",
   "metadata": {},
   "outputs": [],
   "source": [
    "# Modelo duma fração\n",
    "# lista -- [1,3]\n",
    "# tuplo -- (1,3)\n",
    "# dicionário -- {\"numerador\": 1,\"denominador\": 3}\n",
    "f1 = (1,3)  # 1/3\n",
    "\n",
    "# Modelo duma lista de frações\n",
    "lf1 = [(1,2),(1,3),(1,4)] # 1/2, 1/3, 1/4"
   ]
  },
  {
   "cell_type": "markdown",
   "id": "d477052b-e074-4a5d-ac12-85c2286a1e5f",
   "metadata": {},
   "source": [
    "### Construtor"
   ]
  },
  {
   "cell_type": "code",
   "execution_count": 69,
   "id": "33d1c7e9-22af-4473-9b21-3e7ce0fcf571",
   "metadata": {},
   "outputs": [
    {
     "name": "stdout",
     "output_type": "stream",
     "text": [
      "1/3"
     ]
    }
   ],
   "source": [
    "def criarFracao(numerador, denominador):\n",
    "    return (numerador, denominador)  #criar o tuplo para a fração\n",
    "\n",
    "def verFracao(f):\n",
    "    print(f\"{f[0]}/{f[1]}\", end= \"\")  #se não metermos end=\"\"iria imprimir /n no fim da fração\n",
    "    return\n",
    "\n",
    "verFracao(f1)"
   ]
  },
  {
   "cell_type": "code",
   "execution_count": 70,
   "id": "d46df3ff",
   "metadata": {},
   "outputs": [
    {
     "name": "stdout",
     "output_type": "stream",
     "text": [
      "2/3"
     ]
    }
   ],
   "source": [
    "f1 = criarFracao(2,3)\n",
    "verFracao(f1)"
   ]
  },
  {
   "cell_type": "markdown",
   "id": "f7cd0ff1",
   "metadata": {},
   "source": [
    "### Simplificação de frações"
   ]
  },
  {
   "cell_type": "code",
   "execution_count": 71,
   "id": "8b0fa08f",
   "metadata": {},
   "outputs": [
    {
     "name": "stdout",
     "output_type": "stream",
     "text": [
      "4\n",
      "4\n"
     ]
    }
   ],
   "source": [
    "#máximo divisor comum\n",
    "def mdcm(a, b):\n",
    "    if a < b: a,b = b,a\n",
    "    while a > b:\n",
    "        if a % b == 0:\n",
    "            return b\n",
    "        else:\n",
    "            return mdc(b, a%b)\n",
    "\n",
    "print(mdcm(16, 12))\n",
    "print(mdcm(12, 16))\n",
    "\n"
   ]
  },
  {
   "cell_type": "code",
   "execution_count": 72,
   "id": "c109613f",
   "metadata": {},
   "outputs": [
    {
     "name": "stdout",
     "output_type": "stream",
     "text": [
      "4\n",
      "4\n",
      "4\n",
      "(11, 16)\n",
      "11/16"
     ]
    }
   ],
   "source": [
    "#máximo divisor comum professor\n",
    "def mdc(a, b):\n",
    "    if a < b: a,b = b,a\n",
    "    if a % b == 0:\n",
    "        return b\n",
    "    else:\n",
    "        return mdc(b, a%b)\n",
    "\n",
    "print(mdc(16, 12))\n",
    "print(mdc(12, 16))\n",
    "\n",
    "#máximo divisor comum iterativo\n",
    "def mdcIter(a, b):\n",
    "    if a < b: a,b = b,a\n",
    "    res = b\n",
    "    while a % b != 0:\n",
    "        res = a%b\n",
    "        a = b\n",
    "        b = res\n",
    "    return res\n",
    "    \n",
    "print(mdcIter(16, 12))\n",
    "\n",
    "def simplificarFracao(f):\n",
    "    return (int(f[0]/mdc(f[0],f[1])),int(f[1]/mdc(f[0],f[1])))\n",
    "\n",
    "print(simplificarFracao((55, 80)))\n",
    "verFracao(simplificarFracao((55, 80)))"
   ]
  },
  {
   "cell_type": "code",
   "execution_count": 73,
   "id": "8821d031",
   "metadata": {},
   "outputs": [
    {
     "name": "stdout",
     "output_type": "stream",
     "text": [
      "3/20"
     ]
    }
   ],
   "source": [
    "verFracao(simplificarFracao(criarFracao(21, 140)))"
   ]
  },
  {
   "cell_type": "markdown",
   "id": "ca2f1736",
   "metadata": {},
   "source": [
    "### Frações equivalentes\n",
    "\n",
    "Defina uma função que recebe duas frações como argumento e devolve `True` se as frações são equivalentes e `False` caso contrário."
   ]
  },
  {
   "cell_type": "code",
   "execution_count": 74,
   "id": "58bdae83",
   "metadata": {},
   "outputs": [
    {
     "data": {
      "text/plain": [
       "True"
      ]
     },
     "execution_count": 74,
     "metadata": {},
     "output_type": "execute_result"
    }
   ],
   "source": [
    "def equivalenteFracao(f1,f2):\n",
    "    return simplificarFracao(f1) == simplificarFracao(f2)\n",
    "\n",
    "equivalenteFracao((1,2), (14,28))"
   ]
  },
  {
   "cell_type": "markdown",
   "id": "d52f012f",
   "metadata": {},
   "source": [
    "## Operações sobre frações"
   ]
  },
  {
   "cell_type": "code",
   "execution_count": 75,
   "id": "96ba280b",
   "metadata": {},
   "outputs": [
    {
     "name": "stdout",
     "output_type": "stream",
     "text": [
      "210/147\n",
      "4/4"
     ]
    }
   ],
   "source": [
    "def somarFrac(f1, f2):\n",
    "    return (f1[0]*f2[1]+f2[0]*f1[1], f1[1]*f2[1])\n",
    "\n",
    "f1 = criarFracao(15, 21)\n",
    "f2 = criarFracao(5,7)\n",
    "verFracao(somarFrac(f1,f2))\n",
    "print(\"\")\n",
    "verFracao(somarFrac((1,2),(1,2)))"
   ]
  },
  {
   "cell_type": "code",
   "execution_count": 76,
   "id": "a0198bce",
   "metadata": {},
   "outputs": [
    {
     "name": "stdout",
     "output_type": "stream",
     "text": [
      "[(1, 12), (3, 14), (5, 2), (5, 17), (4, 9), (9, 10), (8, 12), (6, 15), (1, 7), (1, 2), (8, 18), (4, 7), (2, 4), (2, 3), (3, 9), (5, 10), (3, 2), (9, 13), (3, 17)]\n"
     ]
    }
   ],
   "source": [
    "listaFrac = [f1, f2, criarFracao(125,1000), (8,12)]\n",
    "listaFrac2 = []\n",
    "import random\n",
    "for i in range(1,20):\n",
    "    n = random.randrange(1, 10)\n",
    "    d = random.randrange(2, 20)\n",
    "    listaFrac2.append(criarFracao(n,d))\n",
    "print(listaFrac2)"
   ]
  },
  {
   "cell_type": "markdown",
   "id": "e83e4eae",
   "metadata": {},
   "source": [
    "### Soma uma lista de frações"
   ]
  },
  {
   "cell_type": "code",
   "execution_count": 77,
   "id": "402d83f0",
   "metadata": {},
   "outputs": [
    {
     "name": "stdout",
     "output_type": "stream",
     "text": [
      "3916500/1764000\n",
      "373/168\n",
      "898443031427020800/77919798168576000\n",
      "3210743/278460\n",
      "(5, 6)\n"
     ]
    }
   ],
   "source": [
    "def somarListaFrac(lista):\n",
    "    res = lista[0]\n",
    "    for f in lista[1:]:\n",
    "        res = somarFrac(res, f)\n",
    "    return res\n",
    "\n",
    "ftotal1 = somarListaFrac(listaFrac)\n",
    "ftotal2 = somarListaFrac(listaFrac2)\n",
    "verFracao(ftotal1)\n",
    "print(\"\")\n",
    "verFracao(simplificarFracao(ftotal1))\n",
    "print(\"\")\n",
    "verFracao(ftotal2)\n",
    "print(\"\")\n",
    "verFracao(simplificarFracao(ftotal2))\n",
    "print(\"\")\n",
    "print(somarFrac((1,2), (1,3)))"
   ]
  },
  {
   "cell_type": "code",
   "execution_count": 78,
   "id": "1234296c",
   "metadata": {},
   "outputs": [],
   "source": [
    "# Somar frações recursivo\n",
    "\n",
    "#é necessário função auxiliar ( vamos fazer na teórica )\n",
    "def somarListaFrac_rec(lista):\n",
    "    if len(lista) == 1:\n",
    "        return lista[0]\n",
    "    else:\n",
    "        return somarListaFrac_rec()"
   ]
  },
  {
   "cell_type": "markdown",
   "id": "a88929cc",
   "metadata": {},
   "source": [
    "### Multiplica 2 frações"
   ]
  },
  {
   "cell_type": "code",
   "execution_count": 79,
   "id": "519c5358",
   "metadata": {},
   "outputs": [
    {
     "name": "stdout",
     "output_type": "stream",
     "text": [
      "1/6"
     ]
    }
   ],
   "source": [
    "def multFrac(f1, f2):\n",
    "    return simplificarFracao((f1[0]*f2[0], f1[1]*f2[1]))\n",
    "\n",
    "verFracao(multFrac((1,2), (1,3)))"
   ]
  },
  {
   "cell_type": "markdown",
   "id": "d1f0c8fa",
   "metadata": {},
   "source": [
    "### Ordenar uma lista de frações por ordem decrescente"
   ]
  },
  {
   "cell_type": "code",
   "execution_count": 80,
   "id": "b783df02",
   "metadata": {},
   "outputs": [
    {
     "name": "stdout",
     "output_type": "stream",
     "text": [
      "[(15, 21), (5, 7), (8, 12), (125, 1000)]\n",
      "[(5, 2), (3, 2), (9, 10), (9, 13), (8, 12), (2, 3), (4, 7), (1, 2), (2, 4), (5, 10), (4, 9), (8, 18), (6, 15), (3, 9), (5, 17), (3, 14), (3, 17), (1, 7), (1, 12)]\n",
      "[(15, 21), (5, 7)]\n",
      "[(5, 2), (3, 2), (9, 10), (9, 13), (8, 12)]\n"
     ]
    }
   ],
   "source": [
    "def ordChave(f):\n",
    "    return f[0]/f[1]\n",
    "\n",
    "def ordenaFracDec(lista):\n",
    "    x = sorted(lista, key=ordChave, reverse=True)              #função sorted: dizer a lista que quero ordenar e como \n",
    "    return x\n",
    "\n",
    "print(ordenaFracDec(listaFrac))\n",
    "print(ordenaFracDec(listaFrac2))\n",
    "print(ordenaFracDec(listaFrac)[:2]) #Top 2\n",
    "print(ordenaFracDec(listaFrac2)[:5]) #Top 5"
   ]
  },
  {
   "cell_type": "markdown",
   "id": "fcd5b5d6",
   "metadata": {},
   "source": [
    "### Guardar uma lista de frações num ficheiro"
   ]
  },
  {
   "cell_type": "code",
   "execution_count": 81,
   "id": "2840f9b2",
   "metadata": {},
   "outputs": [],
   "source": [
    "def gravaListaFrac(fnome, lista):\n",
    "    f = open(fnome,\"w\")\n",
    "    for frac in lista:\n",
    "        f.write(f\"{frac[0]}/{frac[1]}\\n\")\n",
    "    f.close()\n",
    "    return "
   ]
  },
  {
   "cell_type": "code",
   "execution_count": 87,
   "id": "c4cc57e5",
   "metadata": {},
   "outputs": [],
   "source": [
    "import json\n",
    "def gravaListaFracJSON(fnome, lista):\n",
    "    f = open(fnome,\"w\",encoding=\"utf-8\")\n",
    "    json.dump(lista, f)\n",
    "    f.close()\n",
    "    return "
   ]
  },
  {
   "cell_type": "code",
   "execution_count": 88,
   "id": "e75fe6c7",
   "metadata": {},
   "outputs": [],
   "source": [
    "gravaListaFracJSON(\"fracoes2.json\", listaFrac)"
   ]
  },
  {
   "cell_type": "markdown",
   "id": "0664fcdc",
   "metadata": {},
   "source": [
    "### Recuperar uma lista de frações dum ficheiro"
   ]
  },
  {
   "cell_type": "code",
   "execution_count": 84,
   "id": "82aece6e",
   "metadata": {},
   "outputs": [],
   "source": [
    "def carregaListaFrac(fnome):\n",
    "    res = []\n",
    "    f = open(fnome)\n",
    "    for linha in f:\n",
    "        campos = linha.split(\"/\")\n",
    "        res.append((int(campos[0]), int(campos[1])))\n",
    "    f.close()\n",
    "    return res"
   ]
  },
  {
   "cell_type": "code",
   "execution_count": 85,
   "id": "28457bf3",
   "metadata": {},
   "outputs": [
    {
     "name": "stdout",
     "output_type": "stream",
     "text": [
      "[(15, 21), (5, 7), (125, 1000), (8, 12)]\n"
     ]
    }
   ],
   "source": [
    "listaAula = carregaListaFrac(\"fracoes.txt\")\n",
    "print(listaAula)"
   ]
  },
  {
   "cell_type": "code",
   "execution_count": 89,
   "id": "a9d2df13",
   "metadata": {},
   "outputs": [
    {
     "name": "stdout",
     "output_type": "stream",
     "text": [
      "[[15, 21], [5, 7], [125, 1000], [8, 12]]\n"
     ]
    }
   ],
   "source": [
    "import json\n",
    "def carregaListaFrac(fnome):\n",
    "    res = []\n",
    "    f = open(fnome)\n",
    "    res = json.load(f)\n",
    "    f.close()\n",
    "    return res\n",
    "\n",
    "def convFrac(lista):\n",
    "    res = []\n",
    "    for l in lista:\n",
    "        res.append(tuple(l))\n",
    "    return res\n",
    "\n",
    "print(carregaListaFrac(\"fracoes2.json\"))"
   ]
  },
  {
   "cell_type": "markdown",
   "id": "50fc5f25",
   "metadata": {},
   "source": [
    "retirar o último elemento de uma lista \n",
    "\n",
    ".pop ou [:-1]"
   ]
  },
  {
   "cell_type": "markdown",
   "id": "4193a91b",
   "metadata": {},
   "source": [
    "## TPC8: Teste de aferição\n",
    "\n",
    "Resolva os problemas apresentados a seguir."
   ]
  },
  {
   "cell_type": "markdown",
   "id": "ecb162bd",
   "metadata": {},
   "source": [
    "### tpc-1. Especifique as seguintes listas em compreensão:"
   ]
  },
  {
   "cell_type": "markdown",
   "id": "4e758271",
   "metadata": {},
   "source": [
    "#### a) Lista formada pelos elementos que não são comuns às duas listas:"
   ]
  },
  {
   "cell_type": "code",
   "execution_count": 1,
   "id": "1fe48423",
   "metadata": {},
   "outputs": [
    {
     "name": "stdout",
     "output_type": "stream",
     "text": [
      "[1, 2, 3, 6, 7, 8]\n"
     ]
    }
   ],
   "source": [
    "lista1 = [1, 2, 3, 4, 5]\n",
    "lista2 = [4, 5, 6, 7, 8]\n",
    "\n",
    "\n",
    "ncomuns = [x for x in lista1 if x not in lista2] + [y for y in lista2 if y not in lista1]\n",
    "\n",
    "print(ncomuns)"
   ]
  },
  {
   "cell_type": "markdown",
   "id": "0ded2f03",
   "metadata": {},
   "source": [
    "#### b) Lista formada pelas palavras do texto compostas por mais de 3 letras:"
   ]
  },
  {
   "cell_type": "code",
   "execution_count": 2,
   "id": "4ae7f5d0",
   "metadata": {},
   "outputs": [],
   "source": [
    "texto = \"\"\"Vivia há já não poucos anos algures num concelho do Ribatejo \n",
    "    um pequeno lavrador e negociante de gado chamado Manuel Peres Vigário\"\"\"\n",
    "lista = [...]\n",
    "# Resultado esperado: ['Vivia', 'poucos', 'anos', 'algures', 'concelho', ...]"
   ]
  },
  {
   "cell_type": "code",
   "execution_count": 3,
   "id": "fdf640d4",
   "metadata": {},
   "outputs": [
    {
     "name": "stdout",
     "output_type": "stream",
     "text": [
      "['Vivia', 'poucos', 'anos', 'algures', 'concelho', 'Ribatejo', 'pequeno', 'lavrador', 'negociante', 'gado', 'chamado', 'Manuel', 'Peres', 'Vigário']\n"
     ]
    }
   ],
   "source": [
    "lista = [palavra for palavra in texto.split() if len(palavra) > 3]\n",
    "\n",
    "print(lista) "
   ]
  },
  {
   "cell_type": "markdown",
   "id": "ecf72afd",
   "metadata": {},
   "source": [
    "#### c) Lista formada por pares do tipo (índice, valor) com os valores da lista dada:"
   ]
  },
  {
   "cell_type": "code",
   "execution_count": 4,
   "id": "876b2cc3",
   "metadata": {},
   "outputs": [],
   "source": [
    "lista = ['anaconda', 'burro', 'cavalo', 'macaco']\n",
    "listaRes = [...]\n",
    "# Resultado esperado: [(1,'anaconda'), (2,'burro'), (3,'cavalo'), (4,'macaco')]"
   ]
  },
  {
   "cell_type": "code",
   "execution_count": 5,
   "id": "bac4c1aa",
   "metadata": {},
   "outputs": [
    {
     "name": "stdout",
     "output_type": "stream",
     "text": [
      "[(1, 'anaconda'), (2, 'burro'), (3, 'cavalo'), (4, 'macaco')]\n"
     ]
    }
   ],
   "source": [
    "listaRes = [(index + 1, valor) for index, valor in enumerate(lista)]\n",
    "\n",
    "print(listaRes)"
   ]
  },
  {
   "cell_type": "markdown",
   "id": "28cb3dc4",
   "metadata": {},
   "source": [
    "### tpc-2. À semelhança do que foi feito nas aulas, realize as seguintes tarefas:"
   ]
  },
  {
   "cell_type": "markdown",
   "id": "5d3f1dbe",
   "metadata": {},
   "source": [
    "#### a) Especifique uma função que dada uma string e uma substring não vazia, calcula  o número de vezes em que a substring aparece na string, sem que haja sobreposição de substrings:"
   ]
  },
  {
   "cell_type": "code",
   "execution_count": null,
   "id": "4458c7bc",
   "metadata": {},
   "outputs": [
    {
     "name": "stdout",
     "output_type": "stream",
     "text": [
      "2\n",
      "1\n",
      "0\n"
     ]
    }
   ],
   "source": [
    "def strCount(s, subs):\n",
    "    count = 0  \n",
    "    start = 0  \n",
    "\n",
    "    while True:\n",
    "        start = s.find(subs, start)  \n",
    "        if start == -1:  \n",
    "            break\n",
    "        count += 1  \n",
    "        start += len(subs)  \n",
    "\n",
    "    return count  \n",
    "\n",
    "print(strCount(\"catcowcat\", \"cat\"))  # --> 2\n",
    "print(strCount(\"catcowcat\", \"cow\"))  # --> 1\n",
    "print(strCount(\"catcowcat\", \"dog\"))  # --> 0"
   ]
  },
  {
   "cell_type": "markdown",
   "id": "e6db31d7",
   "metadata": {},
   "source": [
    "#### b) Especifique uma função que recebe uma lista de números inteiros positivos e devolve o menor produto que for possível calcular multiplicando os 3 menores inteiros da lista:"
   ]
  },
  {
   "cell_type": "code",
   "execution_count": 53,
   "id": "2b5ad344",
   "metadata": {},
   "outputs": [
    {
     "name": "stdout",
     "output_type": "stream",
     "text": [
      "168\n"
     ]
    }
   ],
   "source": [
    "def produtoM3(lista):\n",
    "\n",
    "    if len(lista) < 3:\n",
    "        return None \n",
    "    lista.sort()\n",
    "    produto = lista[0] * lista[1] * lista[2]\n",
    "    \n",
    "    return produto  \n",
    "\n",
    "\n",
    "print(produtoM3([12, 3, 7, 10, 12, 8, 9]))  # Resultado esperado: 168 (3 * 7 * 8)\n",
    "\n"
   ]
  },
  {
   "cell_type": "markdown",
   "id": "6698b337",
   "metadata": {},
   "source": [
    "#### c) Especifique uma função que dado um número inteiro positivo, repetidamente adiciona os seus dígitos até obter apenas um dígito que é retornado como resultado:"
   ]
  },
  {
   "cell_type": "code",
   "execution_count": 54,
   "id": "54cef309",
   "metadata": {},
   "outputs": [
    {
     "name": "stdout",
     "output_type": "stream",
     "text": [
      "2\n",
      "3\n",
      "3\n",
      "9\n"
     ]
    }
   ],
   "source": [
    "def reduxInt(n):\n",
    "    if n < 0:\n",
    "        return None  \n",
    "    while n >= 10:  \n",
    "        n = sum(int(digit) for digit in str(n))\n",
    "    return n  \n",
    "\n",
    "\n",
    "print(reduxInt(38))    \n",
    "print(reduxInt(777))   \n",
    "print(reduxInt(123456)) \n",
    "print(reduxInt(9))     \n"
   ]
  },
  {
   "cell_type": "markdown",
   "id": "4a47b6e8",
   "metadata": {},
   "source": [
    "#### d) Especifique uma função que recebe duas strings, `string1` e `string2`, e devolve o índice da primeira ocorrência de `string2` em `string1`, caso não ocorra nenhuma vez a função deverá retornar `-1`:"
   ]
  },
  {
   "cell_type": "code",
   "execution_count": 55,
   "id": "f0f4c2a8",
   "metadata": {},
   "outputs": [
    {
     "name": "stdout",
     "output_type": "stream",
     "text": [
      "13\n",
      "-1\n"
     ]
    }
   ],
   "source": [
    "def myIndexOf(s1, s2):\n",
    "    if not s2:\n",
    "        return -1  \n",
    "    for i in range(len(s1) - len(s2) + 1):  \n",
    "        if s1[i:i + len(s2)] == s2:  \n",
    "            return i  \n",
    "    return -1 \n",
    "\n",
    "\n",
    "print(myIndexOf(\"Hoje está um belo dia de sol!\", \"belo\"))  # Resultado: 13\n",
    "print(myIndexOf(\"Hoje está um belo dia de sol!\", \"chuva\"))  # Resultado: -1\n"
   ]
  },
  {
   "cell_type": "markdown",
   "id": "7cd572fc",
   "metadata": {},
   "source": [
    "### tpc-3. A Rede Social\n",
    "\n",
    "Considere que a informação sobre uma rede social está armazenada numa lista de dicionários.\n",
    "\n",
    "Cada dicionário, correspondente a um _post_ e tem chaves `id`, `conteudo`, `autor`, `dataCriacao` e `comentarios`.\n",
    "Por sua vez, `comentarios` é uma lista de dicionários com chaves `comentario` e `autor`.\n",
    "\n",
    "Considere o seguinte exemplo:\n",
    "\n",
    "``` \n",
    "    MyFaceBook = [{\n",
    "        'id': 'p1', \n",
    "        'conteudo': 'A tarefa de avaliação é talvez a mais ingrata das tarefas que um professor\n",
    "    tem de realizar...', \n",
    "        'autor': 'jcr', \n",
    "        'dataCriacao': '2023-07-20', \n",
    "        'comentarios': [\n",
    "            {\n",
    "                'comentario': 'Completamente de acordo...',\n",
    "                'autor': 'prh'\n",
    "            },\n",
    "            {\n",
    "                'comentario': 'Mas há quem goste...',\n",
    "                'autor': 'jj'\n",
    "            }\n",
    "        ]},\n",
    "        {\n",
    "            'id': 'p2',\n",
    "            ...\n",
    "        },\n",
    "        ...\n",
    "        ]\n",
    "```"
   ]
  },
  {
   "cell_type": "markdown",
   "id": "89afc758",
   "metadata": {},
   "source": [
    "Defina as seguintes funções de manipulação e consulta da rede social:"
   ]
  },
  {
   "cell_type": "markdown",
   "id": "1aec6cd8",
   "metadata": {},
   "source": [
    "#### a) `quantosPost`, que indica quantos posts estão registados:"
   ]
  },
  {
   "cell_type": "code",
   "execution_count": 23,
   "id": "5e515941",
   "metadata": {},
   "outputs": [],
   "source": [
    "MyFaceBook = [\n",
    "    {\n",
    "        'id': 'p1',\n",
    "        'conteudo': 'A tarefa de avaliação é talvez a mais ingrata das tarefas que um professor tem de realizar...',\n",
    "        'autor': 'jcr',\n",
    "        'dataCriacao': '2023-07-20',\n",
    "        'comentarios': [\n",
    "            {\n",
    "                'comentario': 'Completamente de acordo...',\n",
    "                'autor': 'prh'\n",
    "            },\n",
    "            {\n",
    "                'comentario': 'Mas há quem goste...',\n",
    "                'autor': 'jj'\n",
    "            }\n",
    "        ]\n",
    "    },\n",
    "    {\n",
    "        'id': 'p2',\n",
    "        'conteudo': 'Um novo dia, novas oportunidades!',\n",
    "        'autor': 'abc',\n",
    "        'dataCriacao': '2023-07-21',\n",
    "        'comentarios': []\n",
    "    }\n",
    "]"
   ]
  },
  {
   "cell_type": "code",
   "execution_count": 24,
   "id": "39a813ee",
   "metadata": {},
   "outputs": [
    {
     "name": "stdout",
     "output_type": "stream",
     "text": [
      "2\n"
     ]
    }
   ],
   "source": [
    "def quantosPost(redeSocial):\n",
    "    return len(redeSocial)\n",
    "\n",
    "print(quantosPost(MyFaceBook))  # Resultado esperado: 2\n"
   ]
  },
  {
   "cell_type": "markdown",
   "id": "2156a0c8",
   "metadata": {},
   "source": [
    "#### b)  `postsAutor`, que devolve a lista de posts de um determinado autor:"
   ]
  },
  {
   "cell_type": "code",
   "execution_count": 25,
   "id": "8a5a2a41",
   "metadata": {},
   "outputs": [
    {
     "name": "stdout",
     "output_type": "stream",
     "text": [
      "[{'id': 'p1', 'conteudo': 'A tarefa de avaliação é talvez a mais ingrata das tarefas que um professor tem de realizar...', 'autor': 'jcr', 'dataCriacao': '2023-07-20', 'comentarios': [{'comentario': 'Completamente de acordo...', 'autor': 'prh'}, {'comentario': 'Mas há quem goste...', 'autor': 'jj'}]}]\n"
     ]
    }
   ],
   "source": [
    "def postsAutor(redeSocial, autor):\n",
    "    posts_do_autor = []\n",
    "    for post in redeSocial:\n",
    "        if post['autor'] == autor:\n",
    "            posts_do_autor.append(post)\n",
    "    \n",
    "    return posts_do_autor\n",
    "\n",
    "print(postsAutor(MyFaceBook, 'jcr'))  "
   ]
  },
  {
   "cell_type": "markdown",
   "id": "12f9126b",
   "metadata": {},
   "source": [
    "#### c) `autores`, que devolve a lista de autores de posts ordenada alfabeticamente:"
   ]
  },
  {
   "cell_type": "code",
   "execution_count": 26,
   "id": "d9dfe30a",
   "metadata": {},
   "outputs": [
    {
     "name": "stdout",
     "output_type": "stream",
     "text": [
      "['abc', 'jcr']\n"
     ]
    }
   ],
   "source": [
    "def autores(redeSocial):\n",
    "    autores_set = set()\n",
    "    for post in redeSocial:\n",
    "        autores_set.add(post['autor'])\n",
    "    autores_list = sorted(list(autores_set))\n",
    "    \n",
    "    return autores_list\n",
    "\n",
    "\n",
    "print(autores(MyFaceBook))  "
   ]
  },
  {
   "cell_type": "markdown",
   "id": "1a0f760b",
   "metadata": {},
   "source": [
    "#### d) `insPost`, que acrescenta um novo post à rede social a partir dos parâmetros recebidos e devolve a nova rede social. \n",
    "    \n",
    "O campo `id` devrá ser calculado a partir dos já existentes, por exemplo, se a rede tiver posts com id `p1`, `p2` e `p3`, o novo `id` deverá ser `p4`."
   ]
  },
  {
   "cell_type": "code",
   "execution_count": 30,
   "id": "a00c85e3",
   "metadata": {},
   "outputs": [
    {
     "name": "stdout",
     "output_type": "stream",
     "text": [
      "[{'id': 'p1', 'conteudo': 'A tarefa de avaliação é talvez a mais ingrata das tarefas que um professor tem de realizar...', 'autor': 'jcr', 'dataCriacao': '2023-07-20', 'comentarios': [{'comentario': 'Completamente de acordo...', 'autor': 'prh'}, {'comentario': 'Mas há quem goste...', 'autor': 'jj'}]}, {'id': 'p2', 'conteudo': 'Um novo dia, novas oportunidades!', 'autor': 'abc', 'dataCriacao': '2023-07-21', 'comentarios': []}, {'id': 'p3', 'conteudo': 'Hoje é um ótimo dia para aprender Python!', 'autor': 'xyz', 'dataCriacao': '2023-07-22', 'comentarios': [{'comentario': 'Sim, é mesmo!', 'autor': 'abc'}]}, {'id': 'p4', 'conteudo': 'Hoje é um ótimo dia para aprender Python!', 'autor': 'xyz', 'dataCriacao': '2023-07-22', 'comentarios': [{'comentario': 'Sim, é mesmo!', 'autor': 'abc'}]}, {'id': 'p5', 'conteudo': 'Hoje é um ótimo dia para aprender Python!', 'autor': 'xyz', 'dataCriacao': '2023-07-22', 'comentarios': [{'comentario': 'Sim, é mesmo!', 'autor': 'abc'}]}, {'id': 'p6', 'conteudo': 'Hoje é um ótimo dia para aprender Python!', 'autor': 'xyz', 'dataCriacao': '2023-07-22', 'comentarios': [{'comentario': 'Sim, é mesmo!', 'autor': 'abc'}]}]\n"
     ]
    }
   ],
   "source": [
    "def insPost(redeSocial, conteudo, autor, dataCriacao, comentarios):\n",
    "    ids_existentes = [post['id'] for post in redeSocial]\n",
    "    if ids_existentes:\n",
    "        max_id = max([int(post_id[1:]) for post_id in ids_existentes])  \n",
    "        novo_id = f\"p{max_id + 1}\"\n",
    "    else:\n",
    "        novo_id = \"p1\"\n",
    "    \n",
    "    novo_post = {\n",
    "        'id': novo_id,\n",
    "        'conteudo': conteudo,\n",
    "        'autor': autor,\n",
    "        'dataCriacao': dataCriacao,\n",
    "        'comentarios': comentarios\n",
    "    }\n",
    "    \n",
    "    redeSocial.append(novo_post)\n",
    "    return redeSocial\n",
    "\n",
    "novo_post_conteudo = \"Hoje é um ótimo dia para aprender Python!\"\n",
    "novo_post_autor = \"xyz\"\n",
    "novo_post_data = \"2023-07-22\"\n",
    "novo_post_comentarios = [{\"comentario\": \"Sim, é mesmo!\", \"autor\": \"abc\"}]\n",
    "\n",
    "nova_rede = insPost(MyFaceBook, novo_post_conteudo, novo_post_autor, novo_post_data, novo_post_comentarios)\n",
    "print(nova_rede)\n"
   ]
  },
  {
   "cell_type": "markdown",
   "id": "65061d0a",
   "metadata": {},
   "source": [
    "#### e)  `remPost`, que remove um post da rede, correspondente ao `id` recebido."
   ]
  },
  {
   "cell_type": "code",
   "execution_count": 31,
   "id": "dc1adabc",
   "metadata": {},
   "outputs": [
    {
     "name": "stdout",
     "output_type": "stream",
     "text": [
      "[{'id': 'p1', 'conteudo': 'A tarefa de avaliação é talvez a mais ingrata das tarefas que um professor tem de realizar...', 'autor': 'jcr', 'dataCriacao': '2023-07-20', 'comentarios': [{'comentario': 'Completamente de acordo...', 'autor': 'prh'}, {'comentario': 'Mas há quem goste...', 'autor': 'jj'}]}, {'id': 'p3', 'conteudo': 'Hoje é um ótimo dia para aprender Python!', 'autor': 'xyz', 'dataCriacao': '2023-07-22', 'comentarios': [{'comentario': 'Sim, é mesmo!', 'autor': 'abc'}]}, {'id': 'p4', 'conteudo': 'Hoje é um ótimo dia para aprender Python!', 'autor': 'xyz', 'dataCriacao': '2023-07-22', 'comentarios': [{'comentario': 'Sim, é mesmo!', 'autor': 'abc'}]}, {'id': 'p5', 'conteudo': 'Hoje é um ótimo dia para aprender Python!', 'autor': 'xyz', 'dataCriacao': '2023-07-22', 'comentarios': [{'comentario': 'Sim, é mesmo!', 'autor': 'abc'}]}, {'id': 'p6', 'conteudo': 'Hoje é um ótimo dia para aprender Python!', 'autor': 'xyz', 'dataCriacao': '2023-07-22', 'comentarios': [{'comentario': 'Sim, é mesmo!', 'autor': 'abc'}]}]\n"
     ]
    }
   ],
   "source": [
    "def remPost(redeSocial, id):\n",
    "    redeSocial = [post for post in redeSocial if post['id'] != id]\n",
    "    return redeSocial\n",
    "\n",
    "nova_rede = remPost(MyFaceBook, 'p2')\n",
    "print(nova_rede)"
   ]
  },
  {
   "cell_type": "markdown",
   "id": "de46a635",
   "metadata": {},
   "source": [
    "#### f) `postsPorAutor`, que devolve uma distribuição de posts por autor (à semelhança do que foi feito nas aulas)."
   ]
  },
  {
   "cell_type": "code",
   "execution_count": 33,
   "id": "4118730d",
   "metadata": {},
   "outputs": [
    {
     "name": "stdout",
     "output_type": "stream",
     "text": [
      "{'jcr': 1, 'abc': 1}\n"
     ]
    }
   ],
   "source": [
    "def postsPorAutor(redeSocial):\n",
    "    # Criar um dicionário para armazenar a contagem de posts por autor\n",
    "    distribuicao = {}\n",
    "    \n",
    "    # Iterar sobre cada post na rede social\n",
    "    for post in redeSocial:\n",
    "        autor = post['autor']  # Extrair o autor do post\n",
    "        \n",
    "        # Se o autor já tiver postado antes, incrementa a contagem\n",
    "        if autor in distribuicao:\n",
    "            distribuicao[autor] += 1\n",
    "        else:\n",
    "            # Caso contrário, começa a contagem com 1 post\n",
    "            distribuicao[autor] = 1\n",
    "    \n",
    "    return distribuicao\n",
    "\n",
    "MyFaceBook = [\n",
    "    {\n",
    "        'id': 'p1',\n",
    "        'conteudo': 'A tarefa de avaliação é talvez a mais ingrata das tarefas que um professor tem de realizar...',\n",
    "        'autor': 'jcr',\n",
    "        'dataCriacao': '2023-07-20',\n",
    "        'comentarios': [\n",
    "            {\n",
    "                'comentario': 'Completamente de acordo...',\n",
    "                'autor': 'prh'\n",
    "            },\n",
    "            {\n",
    "                'comentario': 'Mas há quem goste...',\n",
    "                'autor': 'jj'\n",
    "            }\n",
    "        ]\n",
    "    },\n",
    "    {\n",
    "        'id': 'p2',\n",
    "        'conteudo': 'Um novo dia, novas oportunidades!',\n",
    "        'autor': 'abc',\n",
    "        'dataCriacao': '2023-07-21',\n",
    "        'comentarios': []\n",
    "    }\n",
    "]\n",
    "\n",
    "distribuicao = postsPorAutor(MyFaceBook)\n",
    "print(distribuicao)"
   ]
  },
  {
   "cell_type": "markdown",
   "id": "5b1d7d7a",
   "metadata": {},
   "source": [
    "#### g) `comentadoPor`, que recebe um autor e devolve a lista de posts comentados por esse autor."
   ]
  },
  {
   "cell_type": "code",
   "execution_count": 40,
   "id": "a91f2619",
   "metadata": {},
   "outputs": [
    {
     "name": "stdout",
     "output_type": "stream",
     "text": [
      "[{'id': 'p1', 'conteudo': 'A tarefa de avaliação é talvez a mais ingrata das tarefas que um professor tem de realizar...', 'autor': 'jcr', 'dataCriacao': '2023-07-20', 'comentarios': [{'comentario': 'Completamente de acordo...', 'autor': 'prh'}, {'comentario': 'Mas há quem goste...', 'autor': 'jj'}]}]\n"
     ]
    }
   ],
   "source": [
    "def comentadoPor(redeSocial, autor):\n",
    "    posts_comentados = []\n",
    "    for post in redeSocial:\n",
    "        autor_comentou = False\n",
    "        for comentario in post['comentarios']:\n",
    "            if comentario['autor'] == autor:\n",
    "                autor_comentou = True\n",
    "        if autor_comentou:\n",
    "            posts_comentados.append(post)\n",
    "    \n",
    "    return posts_comentados\n",
    "\n",
    "\n",
    "MyFaceBook = [\n",
    "    {\n",
    "        'id': 'p1',\n",
    "        'conteudo': 'A tarefa de avaliação é talvez a mais ingrata das tarefas que um professor tem de realizar...',\n",
    "        'autor': 'jcr',\n",
    "        'dataCriacao': '2023-07-20',\n",
    "        'comentarios': [\n",
    "            {\n",
    "                'comentario': 'Completamente de acordo...',\n",
    "                'autor': 'prh'\n",
    "            },\n",
    "            {\n",
    "                'comentario': 'Mas há quem goste...',\n",
    "                'autor': 'jj'\n",
    "            }\n",
    "        ]\n",
    "    },\n",
    "    {\n",
    "        'id': 'p2',\n",
    "        'conteudo': 'Um novo dia, novas oportunidades!',\n",
    "        'autor': 'abc',\n",
    "        'dataCriacao': '2023-07-21',\n",
    "        'comentarios': []\n",
    "    }\n",
    "]\n",
    "\n",
    "print(comentadoPor(MyFaceBook, 'jj'))"
   ]
  }
 ],
 "metadata": {
  "kernelspec": {
   "display_name": "Python 3",
   "language": "python",
   "name": "python3"
  },
  "language_info": {
   "codemirror_mode": {
    "name": "ipython",
    "version": 3
   },
   "file_extension": ".py",
   "mimetype": "text/x-python",
   "name": "python",
   "nbconvert_exporter": "python",
   "pygments_lexer": "ipython3",
   "version": "3.12.4"
  }
 },
 "nbformat": 4,
 "nbformat_minor": 5
}
