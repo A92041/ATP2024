{
 "cells": [
  {
   "cell_type": "markdown",
   "id": "1e545158",
   "metadata": {},
   "source": [
    "# Aula Prática 4 (guião)\n",
    "### Semana de 30 de Setembro a 4 de Outubro de 2024\n",
    "### José Carlos Ramalho e Luís Cunha\n",
    "### Sinopsis:\n",
    "Algoritmos sobre listas."
   ]
  },
  {
   "cell_type": "markdown",
   "id": "e38d18c4-d7d7-4fea-9bc6-e3f3c903386b",
   "metadata": {},
   "source": [
    "### Exercício 1: Criar uma lista \n",
    "- Defina uma função que recebe um argumento **N** e devolve uma  lista com os números ímpares até **N**;\n",
    "- Crie um programa que chama a função e imprime a lista resultante."
   ]
  },
  {
   "cell_type": "code",
   "execution_count": 6,
   "id": "af973146-3bb4-4fa8-ba6c-b887b79ccff8",
   "metadata": {},
   "outputs": [
    {
     "data": {
      "text/plain": [
       "[1, 3, 5, 7, 9, 11]"
      ]
     },
     "execution_count": 6,
     "metadata": {},
     "output_type": "execute_result"
    }
   ],
   "source": [
    "# Solução do exercício 1\n",
    "\n",
    "\n",
    "def criaLista(N):\n",
    "    res = [] #resultado inicia com lista vazia\n",
    "    i = 1    #inicializamos i a 1 porque é o primeiro ímpar\n",
    "    while i <= N:      # enquanto i for menor ou igual a N \n",
    "        res.append(i)  #adicionamos um elemento à lista\n",
    "        i = i + 2      #de 2 em 2 para dar todos os ímpares\n",
    "    return res\n",
    "\n",
    "criaLista(12)"
   ]
  },
  {
   "cell_type": "markdown",
   "id": "bdcbffb0",
   "metadata": {},
   "source": [
    "### Exercício 2: Ler uma lista de N números\n",
    "- Defina uma função que recebe um argumento **N** e lê **N** números armazenando-os numa lista que é devolvida como resultado;\n",
    "- Crie um programa que chama a função e imprime a lista resultante."
   ]
  },
  {
   "cell_type": "code",
   "execution_count": 12,
   "id": "af973146-3bb4-4fa8-ba6c-b887b79ccff8",
   "metadata": {},
   "outputs": [
    {
     "data": {
      "text/plain": [
       "[3, 4, 5, 6, 7, 8, 1, 2, 9, 90]"
      ]
     },
     "execution_count": 12,
     "metadata": {},
     "output_type": "execute_result"
    }
   ],
   "source": [
    "# Solução do exercício 2\n",
    "def leLista(N):\n",
    "    res = []\n",
    "    i = 0\n",
    "    while i <= N:\n",
    "        i = int(input(\"Introduza um número: \"))\n",
    "        res.append(i)\n",
    "    return res\n",
    "    \n",
    "leLista(10)"
   ]
  },
  {
   "cell_type": "code",
   "execution_count": 13,
   "id": "b20a5967",
   "metadata": {},
   "outputs": [
    {
     "data": {
      "text/plain": [
       "[3, 4, 5, 6, 7]"
      ]
     },
     "execution_count": 13,
     "metadata": {},
     "output_type": "execute_result"
    }
   ],
   "source": [
    "# Solução do exercício 2 - Professor\n",
    "\n",
    "def leLista(N):\n",
    "    res = []\n",
    "    while N > 0:\n",
    "        numero = int(input(\"Introduza um número: \"))\n",
    "        res.append(numero)\n",
    "        N = N - 1\n",
    "    return res\n",
    "    \n",
    "leLista(5)"
   ]
  },
  {
   "cell_type": "markdown",
   "id": "bdcbffb0",
   "metadata": {},
   "source": [
    "### Exercício 3: Somar uma lista de números\n",
    "- Defina uma função que recebe uma lista como argumento e devolve a soma dos números nessa lista."
   ]
  },
  {
   "cell_type": "code",
   "execution_count": 15,
   "id": "64ad6f7b",
   "metadata": {},
   "outputs": [
    {
     "data": {
      "text/plain": [
       "10"
      ]
     },
     "execution_count": 15,
     "metadata": {},
     "output_type": "execute_result"
    }
   ],
   "source": [
    "# Solução do exercício 3\n",
    "def somaLista(lista):\n",
    "    res = 0\n",
    "    for x in lista: #para cada valor na lista\n",
    "        res = res + x\n",
    "    return res\n",
    "\n",
    "lista = [1, 2, 3, 4]\n",
    "somaLista(lista)"
   ]
  },
  {
   "cell_type": "code",
   "execution_count": 13,
   "id": "2478e78b",
   "metadata": {},
   "outputs": [
    {
     "data": {
      "text/plain": [
       "10"
      ]
     },
     "execution_count": 13,
     "metadata": {},
     "output_type": "execute_result"
    }
   ],
   "source": [
    "# Solução do exercício 3 com ciclo while\n",
    "def somaLista(lista):\n",
    "    res = 0\n",
    "    i = 0\n",
    "    while i < len(lista):\n",
    "        res = res + lista[i]\n",
    "        i = i + 1\n",
    "    return res\n",
    "\n",
    "lista = [1, 2, 3, 4]\n",
    "somaLista(lista)"
   ]
  },
  {
   "cell_type": "markdown",
   "id": "65565661",
   "metadata": {},
   "source": [
    "### Exercício 4: Quadrado dos elementos de uma lista\n",
    "\n",
    "- Defina uma função que recebe uma lista como argumento e devolve uma nova lista com os quadrados de cada número da lista inicial. \n",
    "\n",
    "#### Input (exemplo)\n",
    "in: [1, 2, 3, 4]\n",
    "#### Output (exemplo)\n",
    "out: [1, 4, 9, 16]"
   ]
  },
  {
   "cell_type": "code",
   "execution_count": 11,
   "id": "7e3e2775",
   "metadata": {},
   "outputs": [
    {
     "data": {
      "text/plain": [
       "[1, 4, 9, 16]"
      ]
     },
     "execution_count": 11,
     "metadata": {},
     "output_type": "execute_result"
    }
   ],
   "source": [
    "# Solução do exercício 4\n",
    "def quadrados(lista):\n",
    "    resultado = []\n",
    "    for x in lista:\n",
    "        resultado.append(x ** 2)\n",
    "    return resultado\n",
    "\n",
    "lista = [1, 2, 3, 4]\n",
    "quadrados(lista)"
   ]
  },
  {
   "cell_type": "markdown",
   "id": "bdcbffb0",
   "metadata": {},
   "source": [
    "### Exercício 5: Calcular a média duma lista de números\n",
    "- Defina uma função que recebe uma lista como argumento e devolve a média dos números nessa lista."
   ]
  },
  {
   "cell_type": "code",
   "execution_count": 17,
   "id": "a6c32b2e",
   "metadata": {},
   "outputs": [
    {
     "data": {
      "text/plain": [
       "2.5"
      ]
     },
     "execution_count": 17,
     "metadata": {},
     "output_type": "execute_result"
    }
   ],
   "source": [
    "# Solução do exercício 5\n",
    "def mediaLista(lista):\n",
    "    return (somaLista(lista) / len(lista))\n",
    "\n",
    "lista = [1, 2, 3, 4]\n",
    "mediaLista(lista)\n"
   ]
  },
  {
   "cell_type": "markdown",
   "id": "f41ef69b",
   "metadata": {},
   "source": [
    "### Exercício 6: Maior de uma sequência\n",
    "- Defina uma função que recebe uma lista como argumento e devolve o maior número nessa lista."
   ]
  },
  {
   "cell_type": "code",
   "execution_count": 19,
   "id": "86f5b24d",
   "metadata": {},
   "outputs": [
    {
     "name": "stdout",
     "output_type": "stream",
     "text": [
      "[0, 1, 2, 3, 4, 5, 6, 0, 1, 2, 3, 4, 5, 6, 0, 1, 2, 3, 4, 5, 6, 0, 1, 2, 3, 4, 5, 6, 0, 1, 2, 3, 4, 5, 6, 0, 1, 2, 3, 4, 5, 6, 0, 1, 2, 3, 4, 5, 6, 0, 1, 2, 3, 4, 5, 6, 0, 1, 2, 3, 4, 5, 6, 0, 1, 2, 3, 4, 5, 6, 0]\n",
      "6\n"
     ]
    }
   ],
   "source": [
    "# Solução do exercício 6\n",
    "def maiorLista(lista):\n",
    "    res = lista[0] #inicializamos com o primeiro elemento da lista = lista[0]\n",
    "    for x in lista:\n",
    "        if x > res:\n",
    "            res = x\n",
    "    return res\n",
    "\n",
    "print([x % 7 for x in range(71)])\n",
    "print(maiorLista([x % 7 for x in range(71)]))"
   ]
  },
  {
   "cell_type": "markdown",
   "id": "d11cdd11",
   "metadata": {},
   "source": [
    "### Exercício 6: Menor de uma sequência\n",
    "- Defina uma função que recebe uma lista como argumento e devolve o menor número nessa lista."
   ]
  },
  {
   "cell_type": "code",
   "execution_count": 20,
   "id": "7549c7d7",
   "metadata": {},
   "outputs": [
    {
     "name": "stdout",
     "output_type": "stream",
     "text": [
      "[0, 1, 2, 3, 4, 5, 6, 0, 1, 2, 3, 4, 5, 6, 0, 1, 2, 3, 4, 5, 6, 0, 1, 2, 3, 4, 5, 6, 0, 1, 2, 3, 4, 5, 6, 0, 1, 2, 3, 4, 5, 6, 0, 1, 2, 3, 4, 5, 6, 0, 1, 2, 3, 4, 5, 6, 0, 1, 2, 3, 4, 5, 6, 0, 1, 2, 3, 4, 5, 6, 0]\n",
      "0\n"
     ]
    }
   ],
   "source": [
    "# Solução do exercício 6\n",
    "def menorLista(lista):\n",
    "    res = lista[0] #inicializamos com o primeiro elemento da lista = lista[0]\n",
    "    for x in lista:\n",
    "        if x < res:\n",
    "            res = x\n",
    "    return res\n",
    "\n",
    "print([x % 7 for x in range(71)])\n",
    "print(menorLista([x % 7 for x in range(71)]))"
   ]
  },
  {
   "cell_type": "markdown",
   "id": "bb597e57",
   "metadata": {},
   "source": [
    "### Exercício 7: Contar Ocorrências\n",
    "- Defina uma função que recebe uma lista e um elemento como argumento, e que devolve o número de ocurrências desse elemento na lista."
   ]
  },
  {
   "cell_type": "code",
   "execution_count": 27,
   "id": "e426e923",
   "metadata": {},
   "outputs": [
    {
     "name": "stdout",
     "output_type": "stream",
     "text": [
      "2\n",
      "[0, 1, 2, 3, 4, 5, 6, 0, 1, 2, 3, 4, 5, 6, 0, 1, 2, 3, 4, 5, 6, 0, 1, 2, 3, 4, 5, 6, 0, 1, 2, 3, 4, 5, 6, 0, 1, 2, 3, 4, 5, 6, 0, 1, 2, 3, 4, 5, 6, 0, 1, 2, 3, 4, 5, 6, 0, 1, 2, 3, 4, 5, 6, 0, 1, 2, 3, 4, 5, 6, 0]\n",
      "10\n"
     ]
    }
   ],
   "source": [
    "# Solução do exercício 7\n",
    "def occor(lista, elem):\n",
    "    res = 0\n",
    "    for x in lista:\n",
    "        if x == elem:\n",
    "            res = res + 1\n",
    "    return res\n",
    "\n",
    "lista = [1, 4, 6, 7, 4, 2]\n",
    "elem = 4\n",
    "print(occor(lista, elem))\n",
    "\n",
    "print([x % 7 for x in range(71)])\n",
    "print(occor([x % 7 for x in range(71)],4))"
   ]
  },
  {
   "cell_type": "markdown",
   "id": "775a02a5",
   "metadata": {},
   "source": [
    "### Exercício 8: Contar strings\n",
    "- Defina uma função que recebe uma lista de strings como argumento e devolve número de strings nessa lista que:\n",
    "    1. Têm tamanho maior ou igual a 3;\n",
    "    2. Começam e terminam pelo mesmo caracter.\n",
    "#### Input (exemplo)\n",
    "in: ['abc', 'xyz', 'ab', '1221']\n",
    "#### Output (exemplo)\n",
    "\n",
    "out: 1"
   ]
  },
  {
   "cell_type": "code",
   "execution_count": 6,
   "id": "7390bc6a",
   "metadata": {},
   "outputs": [
    {
     "data": {
      "text/plain": [
       "1"
      ]
     },
     "execution_count": 6,
     "metadata": {},
     "output_type": "execute_result"
    }
   ],
   "source": [
    "# Solução do exercício 8\n",
    "def contarStringsLista(lista):\n",
    "    res = 0\n",
    "    for x in lista:\n",
    "        if len(x) >= 3 and x[0] == x[-1]:\n",
    "            res = res + 1\n",
    "    return res\n",
    "\n",
    "\n",
    "lista = ['abc', 'xyz', 'ab', '1221']\n",
    "contarStringsLista(lista)"
   ]
  },
  {
   "cell_type": "markdown",
   "id": "f9ba457b",
   "metadata": {},
   "source": [
    "### Exercício 9: Remover duplicados\n",
    "- Defina uma função que recebe uma lista como argumento e devolve uma nova lista eliminando elementos repetidos."
   ]
  },
  {
   "cell_type": "code",
   "execution_count": null,
   "id": "0abc61e5",
   "metadata": {},
   "outputs": [],
   "source": [
    "# Solução do exercício 9\n",
    "def remDupLista(lista):\n",
    "    res = []\n",
    "    for x in lista:\n",
    "        if x not in res:\n",
    "            res.append(x)\n",
    "    return res"
   ]
  },
  {
   "cell_type": "markdown",
   "id": "9bc471d8",
   "metadata": {},
   "source": [
    "### Exercício 10: eVazia?\n",
    "- Defina uma função que recebe uma lista como argumento e devolve um resultado booleano verdadeiro se a lista estiver vazia."
   ]
  },
  {
   "cell_type": "code",
   "execution_count": 7,
   "id": "18cf2aff",
   "metadata": {},
   "outputs": [
    {
     "data": {
      "text/plain": [
       "False"
      ]
     },
     "execution_count": 7,
     "metadata": {},
     "output_type": "execute_result"
    }
   ],
   "source": [
    "# Solução do exercício 10\n",
    "def eVazia(lista):\n",
    "    return len(lista) == 0\n",
    "\n",
    "lista = ['abc', 'xyz', 'ab', '1221']\n",
    "eVazia(lista)\n"
   ]
  },
  {
   "cell_type": "markdown",
   "id": "72b8fac0",
   "metadata": {},
   "source": [
    "### Exercício 11: Copiar lista\n",
    "- Defina uma função que recebe uma lista como argumento e devolve uma nova lista correspondente a uma cópia da lista recebida."
   ]
  },
  {
   "cell_type": "code",
   "execution_count": 8,
   "id": "a61ca503",
   "metadata": {},
   "outputs": [
    {
     "data": {
      "text/plain": [
       "['abc', 'xyz', 'ab', '1221']"
      ]
     },
     "execution_count": 8,
     "metadata": {},
     "output_type": "execute_result"
    }
   ],
   "source": [
    "# Solução do exercício 11\n",
    "def copiarLista(lista):\n",
    "    return list(lista)\n",
    "\n",
    "lista = ['abc', 'xyz', 'ab', '1221']\n",
    "copiarLista(lista)"
   ]
  },
  {
   "cell_type": "markdown",
   "id": "d170cc50",
   "metadata": {},
   "source": [
    "### Exercício 12: Strings maiores que n carateres\n",
    "- Defina uma função que recebe dois argumentos, uma lista de strings e um número inteiro, e que devolve uma nova lista de strings em que estas têm um comprimento igual ou superior ao valor inteiro passado como argumento."
   ]
  },
  {
   "cell_type": "code",
   "execution_count": 9,
   "id": "1944ef1d",
   "metadata": {},
   "outputs": [
    {
     "data": {
      "text/plain": [
       "['abc', 'xyz', '1221']"
      ]
     },
     "execution_count": 9,
     "metadata": {},
     "output_type": "execute_result"
    }
   ],
   "source": [
    "# Solução do exercício 12\n",
    "def stringsMaioresLista(lista, n):\n",
    "    return [s for s in lista if len(s) >= n]\n",
    "\n",
    "lista = ['abc', 'xyz', 'ab', '1221']\n",
    "stringsMaioresLista(lista, 3)"
   ]
  },
  {
   "cell_type": "markdown",
   "id": "af46fe06",
   "metadata": {},
   "source": [
    "### Exercício 13: Comum?\n",
    "- Defina uma função que recebe duas listas como argumento, e que devolve o valor booleano verdadeiro se as listas tiverem pelo menos um elemento comum."
   ]
  },
  {
   "cell_type": "code",
   "execution_count": 10,
   "id": "7a2f4413",
   "metadata": {},
   "outputs": [
    {
     "data": {
      "text/plain": [
       "True"
      ]
     },
     "execution_count": 10,
     "metadata": {},
     "output_type": "execute_result"
    }
   ],
   "source": [
    "# Solução do exercício 13\n",
    "def haComuns(listaA, listaB):\n",
    "    return any(elem in listaB for elem in listaA)\n",
    "\n",
    "listaA = [1, 2, 3, 4]\n",
    "listaB = [4, 5, 6]\n",
    "haComuns(listaA, listaB)"
   ]
  },
  {
   "cell_type": "markdown",
   "id": "061bae0e",
   "metadata": {},
   "source": [
    "### Exercício 14: Comuns\n",
    "- Defina uma função que recebe duas listas como argumento, e que devolve uma nova lista com os valores comuns às duas listas."
   ]
  },
  {
   "cell_type": "code",
   "execution_count": 11,
   "id": "02db9458",
   "metadata": {},
   "outputs": [
    {
     "data": {
      "text/plain": [
       "[4]"
      ]
     },
     "execution_count": 11,
     "metadata": {},
     "output_type": "execute_result"
    }
   ],
   "source": [
    "# Solução do exercício 14\n",
    "def comuns(listaA, listaB):\n",
    "    return [elem for elem in listaA if elem in listaB]\n",
    "\n",
    "listaA = [1, 2, 3, 4]\n",
    "listaB = [4, 5, 6]\n",
    "comuns(listaA, listaB)"
   ]
  },
  {
   "cell_type": "markdown",
   "id": "af4f2b11",
   "metadata": {},
   "source": [
    "### Exercício 15: Únicos\n",
    "- Defina uma função que recebe duas listas como argumento, e que devolve uma nova lista com os valores que apenas existem numa delas."
   ]
  },
  {
   "cell_type": "code",
   "execution_count": 2,
   "id": "01a0d35e",
   "metadata": {},
   "outputs": [
    {
     "data": {
      "text/plain": [
       "[1, 2]"
      ]
     },
     "execution_count": 2,
     "metadata": {},
     "output_type": "execute_result"
    }
   ],
   "source": [
    "# Solução do exercício 15\n",
    "def unicos(listaA, listaB):\n",
    "    return [elem for elem in listaA if elem not in listaB]\n",
    "\n",
    "listaA = [1, 2, 3, 4]\n",
    "listaB = [3, 4, 5, 6]\n",
    "unicos(listaA, listaB)"
   ]
  },
  {
   "cell_type": "markdown",
   "id": "2acbab46",
   "metadata": {},
   "source": [
    "### Exercício 16: indiceDe\n",
    "- Defina uma função que recebe uma lista e um elemento como argumento, e que devolve o índice desse elemento na lista. No caso do elemento não existir na lista deverá devolver o valor -1."
   ]
  },
  {
   "cell_type": "code",
   "execution_count": 4,
   "id": "3891e6c3",
   "metadata": {},
   "outputs": [
    {
     "data": {
      "text/plain": [
       "2"
      ]
     },
     "execution_count": 4,
     "metadata": {},
     "output_type": "execute_result"
    }
   ],
   "source": [
    "# Solução do exercício 16\n",
    "def unicos(lista, elem):\n",
    "    if elem in lista:\n",
    "        return lista.index(elem)\n",
    "    else:\n",
    "        return -1\n",
    "    \n",
    "lista = [10, 20, 30, 40, 50]\n",
    "elem = 30\n",
    "unicos(lista, elem)"
   ]
  },
  {
   "cell_type": "markdown",
   "id": "1d9c2fbc",
   "metadata": {},
   "source": [
    "### Exercício 17: estaOrdenada\n",
    "- Defina uma função que recebe uma lista de números e verifica se a mesma está ordenada por ordem crescente."
   ]
  },
  {
   "cell_type": "code",
   "execution_count": 8,
   "id": "fb44546a",
   "metadata": {},
   "outputs": [
    {
     "name": "stdout",
     "output_type": "stream",
     "text": [
      "True\n",
      "False\n"
     ]
    }
   ],
   "source": [
    "# Solução do exercício 17\n",
    "def estaOrdenada(lista):\n",
    "    for i in range(len(lista) - 1):\n",
    "        if lista[i] > lista[i + 1]:\n",
    "            return False\n",
    "    return True\n",
    "\n",
    "numeros1 = [1, 2, 3, 4, 5]\n",
    "numeros2 = [9, 3, 4, 1, 2]\n",
    "\n",
    "print(estaOrdenada(numeros1))\n",
    "print(estaOrdenada(numeros2))"
   ]
  },
  {
   "cell_type": "markdown",
   "id": "4c48dc90",
   "metadata": {},
   "source": [
    "### Exercício 18: estaOrdenadaCD\n",
    "- Modifique a função do exercício anterior para receber um parâmetro extra, **ordem**, que poderá ter valores \"C\" ou \"D\" e que vai verificar se a lista está ordenada por ordem crescente se **ordem=\"C\"** ou se está ordenada por ordem decrescente se **ordem=\"D\"**."
   ]
  },
  {
   "cell_type": "code",
   "execution_count": 10,
   "id": "f4b83960",
   "metadata": {},
   "outputs": [
    {
     "name": "stdout",
     "output_type": "stream",
     "text": [
      "True\n",
      "False\n"
     ]
    }
   ],
   "source": [
    "# Solução do exercício 18\n",
    "def estaOrdenadaCD(lista, ordem):\n",
    "    if ordem == \"C\":\n",
    "        return all(lista[i] <= lista[i + 1] for i in range(len(lista) - 1))\n",
    "    elif ordem == \"D\":\n",
    "        return all(lista[i] >= lista[i + 1] for i in range(len(lista) - 1))\n",
    "    else:\n",
    "        return False  # Retorna False se ordem não for \"C\" ou \"D\"\n",
    "    \n",
    "numeros1 = [1, 2, 3, 4, 5]\n",
    "print(estaOrdenadaCD(numeros1, \"C\"))\n",
    "print(estaOrdenadaCD(numeros1, \"D\"))"
   ]
  },
  {
   "cell_type": "markdown",
   "id": "4193a91b",
   "metadata": {},
   "source": [
    "### TPC4: Aplicação para manipulação de listas de inteiros\n",
    "- Crie uma aplicação em Python que coloca no monitor o seguinte menu:\n",
    "    * (1) Criar Lista \n",
    "    * (2) Ler Lista\n",
    "    * (3) Soma\n",
    "    * (4) Média\n",
    "    * (5) Maior\n",
    "    * (6) Menor\n",
    "    * (7) estaOrdenada por ordem crescente\n",
    "    * (8) estaOrdenada por ordem decrescente\n",
    "    * (9) Procura um elemento\n",
    "    * (0) Sair\n",
    "- O utilizador irá escolher uma das opções introduzindo o número correspondente;\n",
    "- Se a opção não for sair, a aplicação executa a operação pretendida, apresenta o resultado e a seguir apresenta de novo o menu;\n",
    "- Se a opção for sair, a aplicação termina colocando uma mensagem no monitor.\n",
    "\n",
    "* No desenvolvimento da aplicação deverá ter em atenção o seguinte:\n",
    "    - A aplicação terá uma variável interna para guardar uma lista de números;\n",
    "    - Na opção 1, deverá ser criada uma lista de números aleatórios entre 1 e 100 que será guardada na variável interna;\n",
    "    - Na opção 2, deverá ser criada uma lista com números introduzidos pelo utilizador, que será guardada na variável interna;\n",
    "    - Nestas primeiras opções, se a variável interna já tiver uma lista, esta será sobreposta/apagada pela nova lista;\n",
    "    - Na opção 3, será calculada a soma dos elementos na lista no momento;\n",
    "    - Na opção 4, será calculada a média dos elementos na lista no momento;\n",
    "    - Na opção 5, será calculado o maior elemento da lista no momento;\n",
    "    - Na opção 6, será calculado o menor elemento da lista no momento;\n",
    "    - Na opção 7, a aplicação deverá indicar (Sim/Não) se a lista está ordenada por ordem crescente;\n",
    "    - Na opção 8, a aplicação deverá indicar (Sim/Não) se a lista está ordenada por ordem decrescente;\n",
    "    - Na opção 9, a aplicação irá procurar um elemento na lista, se o encontrar deverá devolver a sua posição, devolverá -1 se o elemento não estiver na lista;\n",
    "    - Se o utilizador selecionar a opção 0, a aplicação deverá terminar mostrando a lista que está nesse momento guardada."
   ]
  }
 ],
 "metadata": {
  "kernelspec": {
   "display_name": "Python 3.9.1 64-bit",
   "language": "python",
   "name": "python3"
  },
  "language_info": {
   "codemirror_mode": {
    "name": "ipython",
    "version": 3
   },
   "file_extension": ".py",
   "mimetype": "text/x-python",
   "name": "python",
   "nbconvert_exporter": "python",
   "pygments_lexer": "ipython3",
   "version": "3.12.4"
  },
  "vscode": {
   "interpreter": {
    "hash": "aee8b7b246df8f9039afb4144a1f6fd8d2ca17a180786b69acc140d282b71a49"
   }
  }
 },
 "nbformat": 4,
 "nbformat_minor": 5
}
